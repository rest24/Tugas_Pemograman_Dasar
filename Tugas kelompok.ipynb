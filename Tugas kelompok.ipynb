{
 "cells": [
  {
   "cell_type": "code",
   "execution_count": 18,
   "source": [
    "Nim         = input(\"Masukkan NIM\")\r\n",
    "Nama        = input(\"Masukkan Nama Lengkap\")\r\n",
    "Kelas       = input(\"Masukkan Kelas\")\r\n",
    "Matakuliah = input(\"Masukkan Mata kuliah\")\r\n",
    "\r\n",
    "Nilai_absen =int (input(\"Masukkan Nilai absen\"))\r\n",
    "Nilai_tugas1=int (input(\"Masukkan Nilai tugas 1\"))\r\n",
    "Nilai_tugas2=int (input(\"Masukkan Nilai tugas 2\"))\r\n",
    "Nilai_uts   =int (input(\"Masukkan Nilai uts\"))\r\n",
    "Nilai_uas   =int (input(\"Masukkan Nilai uas\"))\r\n",
    "\r\n",
    "#proses\r\n",
    "print(\"Nim :\" +str(Nim))\r\n",
    "print(\"Nama :\" +str(Nama))\r\n",
    "print(\"Kelas :\" +str(Kelas))\r\n",
    "print(\"Mata Kuliah :\" +str(Matakuliah))\r\n",
    "\r\n",
    "\r\n",
    "jml=((Nilai_absen*20)/100)+((Nilai_tugas1*10)/100)+((Nilai_tugas2*10)/100)+((Nilai_uts*30)/100)+((Nilai_uas*30)/100)\r\n",
    "\r\n",
    "if(jml >= 85):\r\n",
    "    print(\"Nilai Grade : A\")\r\n",
    "    print(\"Selamat Anda Lulus\")\r\n",
    "elif(jml >= 75):\r\n",
    "    print(\"Nilai grade : B\")\r\n",
    "    print(\"Selamat Anda Lulus\")\r\n",
    "elif(jml >= 65):\r\n",
    "    print(\"Nilai grade : C\")\r\n",
    "    print(\"Selamat Anda Lulus\")\r\n",
    "elif(jml >= 55):\r\n",
    "    print(\"Nilai grade : D\")\r\n",
    "    print(\"Selamat Anda Lulus\")\r\n",
    "\r\n",
    "    \r\n",
    "else:\r\n",
    "    print(\"Nilai Grade : E\")\r\n",
    "    print(\"Maaf Anda Tidak Lulus\")   \r\n",
    "\r\n"
   ],
   "outputs": [
    {
     "output_type": "stream",
     "name": "stdout",
     "text": [
      "Nim :15210180\n",
      "Nama :Muhammad Riyadh Firdaus\n",
      "Kelas :15.1B.12\n",
      "Mata Kuliah :Dasar Pemrograman\n",
      "Nilai grade : B\n",
      "Selamat Anda Lulus\n"
     ]
    }
   ],
   "metadata": {}
  }
 ],
 "metadata": {
  "orig_nbformat": 4,
  "language_info": {
   "name": "python",
   "version": "3.7.9",
   "mimetype": "text/x-python",
   "codemirror_mode": {
    "name": "ipython",
    "version": 3
   },
   "pygments_lexer": "ipython3",
   "nbconvert_exporter": "python",
   "file_extension": ".py"
  },
  "kernelspec": {
   "name": "python3",
   "display_name": "Python 3.7.9 64-bit"
  },
  "interpreter": {
   "hash": "d114852e6cec2b0dd74a309eff3364433bdc8826d3287d189e2fcc4b90f14e72"
  }
 },
 "nbformat": 4,
 "nbformat_minor": 2
}